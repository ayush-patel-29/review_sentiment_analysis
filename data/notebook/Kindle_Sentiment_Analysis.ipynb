{
  "cells": [
    {
      "cell_type": "code",
      "execution_count": null,
      "metadata": {
        "id": "y9y433VJWnWY"
      },
      "outputs": [],
      "source": [
        "import pandas as pd"
      ]
    },
    {
      "cell_type": "code",
      "execution_count": null,
      "metadata": {
        "id": "xRnIeUMeXv0_"
      },
      "outputs": [],
      "source": [
        "df = pd.read_csv('../sample/all_kindle_review.csv')"
      ]
    },
    {
      "cell_type": "code",
      "execution_count": null,
      "metadata": {
        "colab": {
          "base_uri": "https://localhost:8080/",
          "height": 310
        },
        "id": "_78FzkllX17f",
        "outputId": "9afde478-a024-498a-d6a8-05c418a23a54"
      },
      "outputs": [],
      "source": [
        "df.head()"
      ]
    },
    {
      "cell_type": "code",
      "execution_count": null,
      "metadata": {
        "id": "efgVAejhQ1oG"
      },
      "outputs": [],
      "source": [
        "df = df[['reviewText','rating']]"
      ]
    },
    {
      "cell_type": "code",
      "execution_count": null,
      "metadata": {
        "colab": {
          "base_uri": "https://localhost:8080/",
          "height": 423
        },
        "id": "z4sIf-pMQ7sw",
        "outputId": "56835026-7b00-45cb-8aca-1a9b8a522eee"
      },
      "outputs": [],
      "source": [
        "df.dropna(inplace=True)\n",
        "df.reset_index(drop=True)"
      ]
    },
    {
      "cell_type": "code",
      "execution_count": null,
      "metadata": {
        "id": "pTWyX3WMRCpc"
      },
      "outputs": [],
      "source": [
        "# Text Preprocessing\n",
        "import re\n",
        "import nltk\n",
        "from nltk.corpus import stopwords\n",
        "from nltk.stem import WordNetLemmatizer"
      ]
    },
    {
      "cell_type": "code",
      "execution_count": null,
      "metadata": {
        "colab": {
          "base_uri": "https://localhost:8080/"
        },
        "id": "WsI_NxI1Rq3e",
        "outputId": "9cff2b15-5cd1-4b73-e52c-b4b626477136"
      },
      "outputs": [],
      "source": [
        "nltk.download('stopwords')"
      ]
    },
    {
      "cell_type": "code",
      "execution_count": null,
      "metadata": {
        "colab": {
          "base_uri": "https://localhost:8080/"
        },
        "id": "-NgiLZbFRK09",
        "outputId": "c164e81b-9107-4d96-820a-7975e37c8371"
      },
      "outputs": [],
      "source": [
        "# removes punctuation\n",
        "df['reviewText'] = df['reviewText'].apply(lambda x: re.sub('[^a-z A-Z 0-9]+',' ',x))"
      ]
    },
    {
      "cell_type": "code",
      "execution_count": null,
      "metadata": {
        "colab": {
          "base_uri": "https://localhost:8080/"
        },
        "id": "3EDb9PkDRj6b",
        "outputId": "dc802537-46d7-41da-fb7f-a4a25e860bca"
      },
      "outputs": [],
      "source": [
        "# lowers text\n",
        "df['reviewText'] = df['reviewText'].apply(lambda x: x.lower())"
      ]
    },
    {
      "cell_type": "code",
      "execution_count": null,
      "metadata": {
        "colab": {
          "base_uri": "https://localhost:8080/"
        },
        "id": "NFBrlsHdReBx",
        "outputId": "38e430d6-377c-4e1f-e2ac-c9618b7e620e"
      },
      "outputs": [],
      "source": [
        "# removes stopwords\n",
        "df['reviewText'] = df['reviewText'].apply(lambda x: \" \".join([word for word in x.split() if word not in stopwords.words('english')]))"
      ]
    },
    {
      "cell_type": "code",
      "execution_count": null,
      "metadata": {
        "colab": {
          "base_uri": "https://localhost:8080/"
        },
        "id": "dRGCTgt_R0Ga",
        "outputId": "d5ce48fd-f789-4c04-9b30-d537663a2da2"
      },
      "outputs": [],
      "source": [
        "# removes url\n",
        "df['reviewText'] = df['reviewText'].apply(lambda x: re.sub(r'\\b(?:[a-z][a-z0-9+\\-.]*):\\/\\/(?:[\\w\\-]+\\.)+[a-z]{2,}(?:\\/[^\\s]*)?\\b',' ',x))"
      ]
    },
    {
      "cell_type": "code",
      "execution_count": null,
      "metadata": {
        "colab": {
          "base_uri": "https://localhost:8080/"
        },
        "id": "bVeHfukeY2dx",
        "outputId": "40b4db14-a5a9-410f-8298-7fe5fe101fd6"
      },
      "outputs": [],
      "source": [
        "# removing unwanted spaces\n",
        "df['reviewText'] = df['reviewText'].apply(lambda x: \" \".join(x.split()))"
      ]
    },
    {
      "cell_type": "code",
      "execution_count": null,
      "metadata": {
        "colab": {
          "base_uri": "https://localhost:8080/",
          "height": 206
        },
        "id": "zuCS-Y5oZFWc",
        "outputId": "526aee2b-af10-418e-a61a-25474d596c94"
      },
      "outputs": [],
      "source": [
        "df.head()"
      ]
    },
    {
      "cell_type": "code",
      "execution_count": null,
      "metadata": {
        "colab": {
          "base_uri": "https://localhost:8080/"
        },
        "id": "Qyj6cRjfZJWm",
        "outputId": "76b8457a-806f-4746-e35c-2414a550e930"
      },
      "outputs": [],
      "source": [
        "df['rating'] = df['rating'].apply(lambda x: 1 if x > 3 else 0)"
      ]
    },
    {
      "cell_type": "code",
      "execution_count": null,
      "metadata": {
        "colab": {
          "base_uri": "https://localhost:8080/",
          "height": 206
        },
        "id": "gjtvttftZVGe",
        "outputId": "6b715e97-9db6-419b-bebc-3a23b3f556c6"
      },
      "outputs": [],
      "source": [
        "df.head()"
      ]
    },
    {
      "cell_type": "code",
      "execution_count": null,
      "metadata": {
        "colab": {
          "base_uri": "https://localhost:8080/"
        },
        "id": "KMmyva5Pb_fz",
        "outputId": "380cd74d-d997-4760-d0af-8e8e5255b483"
      },
      "outputs": [],
      "source": [
        "nltk.download('wordnet')"
      ]
    },
    {
      "cell_type": "code",
      "execution_count": null,
      "metadata": {
        "id": "wTiQUMXmb4rI"
      },
      "outputs": [],
      "source": [
        "# ḷemmatizing text\n",
        "lemmatizer = WordNetLemmatizer()\n",
        "df['reviewText'] = df['reviewText'].apply(lambda x: \" \".join([lemmatizer.lemmatize(word) for word in x.split()]))"
      ]
    },
    {
      "cell_type": "code",
      "execution_count": null,
      "metadata": {
        "id": "qAE0IhwLZXZe"
      },
      "outputs": [],
      "source": [
        "from sklearn.model_selection import train_test_split\n",
        "X_train, X_test, y_train, y_test = train_test_split(df['reviewText'], df['rating'], test_size=0.2, random_state=42)"
      ]
    },
    {
      "cell_type": "code",
      "execution_count": null,
      "metadata": {
        "id": "KRcjdfH1Zi54"
      },
      "outputs": [],
      "source": [
        "\n",
        "from sklearn.feature_extraction.text import TfidfVectorizer\n",
        "vectorizer = TfidfVectorizer(max_features=10000,ngram_range=(1,2))\n",
        "X_train = vectorizer.fit_transform(X_train).toarray()\n",
        "X_test = vectorizer.transform(X_test).toarray()"
      ]
    },
    {
      "cell_type": "code",
      "execution_count": null,
      "metadata": {
        "colab": {
          "base_uri": "https://localhost:8080/"
        },
        "id": "b0Eax1oGZ6Xk",
        "outputId": "97ce0a46-4fa8-4612-c8f2-75f8b4d06991"
      },
      "outputs": [],
      "source": [
        "vectorizer.vocabulary_"
      ]
    },
    {
      "cell_type": "code",
      "execution_count": null,
      "metadata": {
        "colab": {
          "base_uri": "https://localhost:8080/",
          "height": 80
        },
        "id": "x_fu53CPeNiM",
        "outputId": "d04d3883-71b3-4f8e-d671-15eb43813ff3"
      },
      "outputs": [],
      "source": [
        "from sklearn.naive_bayes import GaussianNB\n",
        "model = GaussianNB()\n",
        "model.fit(X_train, y_train)"
      ]
    },
    {
      "cell_type": "code",
      "execution_count": null,
      "metadata": {
        "colab": {
          "base_uri": "https://localhost:8080/"
        },
        "id": "JZhNZ93veaRT",
        "outputId": "994f4c85-785c-4452-d466-133435c25536"
      },
      "outputs": [],
      "source": [
        "model.score(X_test,y_test)"
      ]
    },
    {
      "cell_type": "code",
      "execution_count": null,
      "metadata": {
        "id": "1nG-p-0pe08V"
      },
      "outputs": [],
      "source": [
        "import pickle\n",
        "pickle.dump(model,open('/content/drive/MyDrive/kindle_sentiment_analysis_model.pkl','wb'))"
      ]
    }
  ],
  "metadata": {
    "colab": {
      "provenance": []
    },
    "kernelspec": {
      "display_name": "Python 3",
      "name": "python3"
    },
    "language_info": {
      "codemirror_mode": {
        "name": "ipython",
        "version": 3
      },
      "file_extension": ".py",
      "mimetype": "text/x-python",
      "name": "python",
      "nbconvert_exporter": "python",
      "pygments_lexer": "ipython3",
      "version": "3.11.4"
    }
  },
  "nbformat": 4,
  "nbformat_minor": 0
}
